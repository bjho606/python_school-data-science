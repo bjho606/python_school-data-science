{
 "cells": [
  {
   "cell_type": "code",
   "execution_count": 5,
   "id": "5caa6d36",
   "metadata": {},
   "outputs": [
    {
     "name": "stdout",
     "output_type": "stream",
     "text": [
      "[[ 0  1  2  3  4]\n",
      " [ 5  6  7  8  9]\n",
      " [10 11 12 13 14]]\n",
      "(3, 5)\n",
      "2\n",
      "int64\n",
      "8\n",
      "15\n",
      "<class 'numpy.ndarray'>\n"
     ]
    }
   ],
   "source": [
    "import numpy as np\n",
    "a = np.arange(15).reshape(3,5)\n",
    "print(a)\n",
    "print(a.shape)\n",
    "print(a.ndim)\n",
    "print(a.dtype)\n",
    "print(a.itemsize)\n",
    "print(a.size)\n",
    "print(type(a))"
   ]
  },
  {
   "cell_type": "code",
   "execution_count": 18,
   "id": "ad2ea959",
   "metadata": {},
   "outputs": [
    {
     "name": "stdout",
     "output_type": "stream",
     "text": [
      "[[1 2 3]\n",
      " [4 5 6]]\n",
      "[[0. 0. 0. 0.]\n",
      " [0. 0. 0. 0.]\n",
      " [0. 0. 0. 0.]]\n",
      "[[[1 1 1 1]\n",
      "  [1 1 1 1]\n",
      "  [1 1 1 1]]\n",
      "\n",
      " [[1 1 1 1]\n",
      "  [1 1 1 1]\n",
      "  [1 1 1 1]]]\n",
      "[[4.9e-324 9.9e-324 1.5e-323]\n",
      " [2.0e-323 2.5e-323 3.0e-323]]\n",
      "[30 40 50 60 70 80 90]\n"
     ]
    }
   ],
   "source": [
    "a = np.array([[1,2,3], [4,5,6]])\n",
    "print(a)\n",
    "b = np.zeros((3,4))\n",
    "print(b)\n",
    "c = np.ones((2,3,4), dtype = np.int64)\n",
    "print(c)\n",
    "d = np.empty((2,3))\n",
    "print(d)\n",
    "e = np.arange(10,100,10)\n",
    "print(e)"
   ]
  },
  {
   "cell_type": "code",
   "execution_count": 21,
   "id": "573f3dfd",
   "metadata": {},
   "outputs": [
    {
     "name": "stdout",
     "output_type": "stream",
     "text": [
      "[20 29 38 47]\n",
      "[0 1 4 9]\n",
      "[ True  True False False]\n"
     ]
    }
   ],
   "source": [
    "A = np.array([20,30,40,50])\n",
    "B = np.arange(4)\n",
    "C = A-B\n",
    "print(C)\n",
    "D = B**2\n",
    "print(D)\n",
    "print(A<35)"
   ]
  },
  {
   "cell_type": "code",
   "execution_count": 25,
   "id": "7a4982d2",
   "metadata": {},
   "outputs": [
    {
     "name": "stdout",
     "output_type": "stream",
     "text": [
      "elasped time = 20.446430206298828\n"
     ]
    }
   ],
   "source": [
    "import time\n",
    "a = range(10000000)\n",
    "b = range(10000000)\n",
    "c = []\n",
    "start = time.time()\n",
    "for i in range(10000000): \n",
    "    c.append(a[i]*b[i])\n",
    "end = time.time()\n",
    "print(\"elasped time =\", end-start)"
   ]
  },
  {
   "cell_type": "code",
   "execution_count": 26,
   "id": "a96eb838",
   "metadata": {},
   "outputs": [
    {
     "name": "stdout",
     "output_type": "stream",
     "text": [
      "elasped time = 0.3084571361541748\n"
     ]
    }
   ],
   "source": [
    "import numpy as np\n",
    "import time\n",
    "a = np.arange(10000000)\n",
    "b = np.arange(10000000)\n",
    "start = time.time()\n",
    "c = a*b\n",
    "end = time.time()\n",
    "print(\"elasped time =\", end-start)"
   ]
  },
  {
   "cell_type": "code",
   "execution_count": 29,
   "id": "86194592",
   "metadata": {},
   "outputs": [
    {
     "name": "stdout",
     "output_type": "stream",
     "text": [
      "[[2 0]\n",
      " [0 4]]\n",
      "[[5 4]\n",
      " [3 4]]\n",
      "4\n"
     ]
    }
   ],
   "source": [
    "A = np.array ( [[1,1], [0,1]] )\n",
    "B = np.array( [[2,0], [3,4]] )\n",
    "C = A*B # elementwise product\n",
    "print(C)\n",
    "D = A@B # matrix product\n",
    "print(D)\n",
    "X = [1,2,3,4]\n",
    "Y = [1,0,1,0]\n",
    "F = np.inner(X,Y) # inner product\n",
    "print(F)"
   ]
  },
  {
   "cell_type": "code",
   "execution_count": null,
   "id": "6244dd13",
   "metadata": {},
   "outputs": [],
   "source": []
  }
 ],
 "metadata": {
  "kernelspec": {
   "display_name": "Python 3",
   "language": "python",
   "name": "python3"
  },
  "language_info": {
   "codemirror_mode": {
    "name": "ipython",
    "version": 3
   },
   "file_extension": ".py",
   "mimetype": "text/x-python",
   "name": "python",
   "nbconvert_exporter": "python",
   "pygments_lexer": "ipython3",
   "version": "3.8.8"
  }
 },
 "nbformat": 4,
 "nbformat_minor": 5
}
